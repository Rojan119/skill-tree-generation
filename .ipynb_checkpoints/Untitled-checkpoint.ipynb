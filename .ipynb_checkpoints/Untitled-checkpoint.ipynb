{
 "cells": [
  {
   "cell_type": "code",
   "execution_count": 1,
   "id": "8ea0386f",
   "metadata": {},
   "outputs": [
    {
     "ename": "ModuleNotFoundError",
     "evalue": "No module named 'langchain'",
     "output_type": "error",
     "traceback": [
      "\u001b[0;31m---------------------------------------------------------------------------\u001b[0m",
      "\u001b[0;31mModuleNotFoundError\u001b[0m                       Traceback (most recent call last)",
      "Cell \u001b[0;32mIn[1], line 2\u001b[0m\n\u001b[1;32m      1\u001b[0m \u001b[38;5;28;01mimport\u001b[39;00m \u001b[38;5;21;01mos\u001b[39;00m\n\u001b[0;32m----> 2\u001b[0m \u001b[38;5;28;01mfrom\u001b[39;00m \u001b[38;5;21;01mlangchain\u001b[39;00m\u001b[38;5;21;01m.\u001b[39;00m\u001b[38;5;21;01mdocument_loaders\u001b[39;00m \u001b[38;5;28;01mimport\u001b[39;00m PyPDFLoader\n\u001b[1;32m      3\u001b[0m \u001b[38;5;28;01mfrom\u001b[39;00m \u001b[38;5;21;01mtyping\u001b[39;00m \u001b[38;5;28;01mimport\u001b[39;00m List\n\u001b[1;32m      4\u001b[0m \u001b[38;5;28;01mfrom\u001b[39;00m \u001b[38;5;21;01mlangchain\u001b[39;00m\u001b[38;5;21;01m.\u001b[39;00m\u001b[38;5;21;01mschema\u001b[39;00m \u001b[38;5;28;01mimport\u001b[39;00m Document\n",
      "\u001b[0;31mModuleNotFoundError\u001b[0m: No module named 'langchain'"
     ]
    }
   ],
   "source": [
    "import os\n",
    "from langchain.document_loaders import PyPDFLoader\n",
    "from typing import List\n",
    "from langchain.schema import Document\n",
    "\n",
    "def get_pdf_paths(root_dir: str) -> List[str]:\n",
    "    \"\"\"Get all PDF paths recursively from a directory\"\"\"\n",
    "    pdf_paths = []\n",
    "    for dirpath, _, filenames in os.walk(root_dir):\n",
    "        for filename in filenames:\n",
    "            if filename.lower().endswith(\".pdf\"):\n",
    "                full_path = os.path.join(dirpath, filename)\n",
    "                pdf_paths.append(full_path)\n",
    "    return pdf_paths\n",
    "\n",
    "# Define your directories (replace with actual paths)\n",
    "dir_a = \"/Users/raizen/Downloads/SS/A\"\n",
    "dir_b_best = \"/Users/raizen/Downloads/SS/B/Best\"\n",
    "dir_b_road = \"/Users/raizen/Downloads/SS/B/Road\"\n",
    "\n",
    "# Collect all PDF paths from all directories\n",
    "all_pdf_paths = []\n",
    "all_pdf_paths += get_pdf_paths(dir_a)\n",
    "all_pdf_paths += get_pdf_paths(dir_b_best)\n",
    "all_pdf_paths += get_pdf_paths(dir_b_road)\n",
    "\n",
    "# Load all PDF documents\n",
    "documents: List[Document] = []\n",
    "\n",
    "for pdf_path in all_pdf_paths:\n",
    "    try:\n",
    "        loader = PyPDFLoader(pdf_path)\n",
    "        docs = loader.load()\n",
    "        # Add metadata about the source folder\n",
    "        for doc in docs:\n",
    "            doc.metadata[\"source_folder\"] = os.path.dirname(pdf_path)\n",
    "        documents.extend(docs)\n",
    "        print(f\"Loaded {len(docs)} pages from {pdf_path}\")\n",
    "    except Exception as e:\n",
    "        print(f\"Error loading {pdf_path}: {str(e)}\")\n",
    "\n",
    "print(f\"\\nTotal documents loaded: {len(documents)}\")\n",
    "\n",
    "# Now you can use the 'documents' list for further processing\n",
    "# Example: splitting, embedding, storing in vector database, etc."
   ]
  },
  {
   "cell_type": "code",
   "execution_count": null,
   "id": "b5b30995",
   "metadata": {},
   "outputs": [],
   "source": [
    "import os\n",
    "\n",
    "# Get the current working directory\n",
    "current_path = os.getcwd()\n",
    "\n",
    "# Print the current path\n",
    "print(\"Current Path:\", current_path)\n"
   ]
  }
 ],
 "metadata": {
  "kernelspec": {
   "display_name": "Python 3 (ipykernel)",
   "language": "python",
   "name": "python3"
  },
  "language_info": {
   "codemirror_mode": {
    "name": "ipython",
    "version": 3
   },
   "file_extension": ".py",
   "mimetype": "text/x-python",
   "name": "python",
   "nbconvert_exporter": "python",
   "pygments_lexer": "ipython3",
   "version": "3.10.9"
  }
 },
 "nbformat": 4,
 "nbformat_minor": 5
}
